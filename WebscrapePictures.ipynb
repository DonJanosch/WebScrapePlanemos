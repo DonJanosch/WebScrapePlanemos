{
 "cells": [
  {
   "cell_type": "code",
   "execution_count": 1,
   "metadata": {},
   "outputs": [],
   "source": [
    "import os, requests\n",
    "from bs4 import BeautifulSoup\n",
    "from urllib.parse import urljoin, urlparse"
   ]
  },
  {
   "cell_type": "code",
   "execution_count": 2,
   "metadata": {},
   "outputs": [],
   "source": [
    "url = 'https://www.planemos.de/unternehmen/'"
   ]
  },
  {
   "cell_type": "code",
   "execution_count": 3,
   "metadata": {},
   "outputs": [],
   "source": [
    "base_url = urljoin(url,'/')"
   ]
  },
  {
   "cell_type": "code",
   "execution_count": 4,
   "metadata": {},
   "outputs": [],
   "source": [
    "res = requests.get(url).text"
   ]
  },
  {
   "cell_type": "code",
   "execution_count": 5,
   "metadata": {},
   "outputs": [],
   "source": [
    "soup = BeautifulSoup(res,'html.parser')"
   ]
  },
  {
   "cell_type": "code",
   "execution_count": 6,
   "metadata": {},
   "outputs": [],
   "source": [
    "images = soup.find_all(['img'])"
   ]
  },
  {
   "cell_type": "code",
   "execution_count": 7,
   "metadata": {},
   "outputs": [],
   "source": [
    "links = [urljoin(base_url,image['src']) for image in images]"
   ]
  },
  {
   "cell_type": "code",
   "execution_count": 8,
   "metadata": {},
   "outputs": [],
   "source": [
    "path = './pictures/'\n",
    "if not os.path.exists(path):\n",
    "    os.makedirs(path)"
   ]
  },
  {
   "cell_type": "code",
   "execution_count": 9,
   "metadata": {},
   "outputs": [
    {
     "name": "stdout",
     "output_type": "stream",
     "text": [
      "Downloading planemos-logo.png\n",
      "Downloading planemos-logo-light.png\n",
      "Downloading planemos-logo.png\n",
      "Downloading planemos.jpg\n",
      "Downloading siemens-solution-partner.png\n",
      "Downloading wonderware-partner.png\n",
      "Downloading Ausbildungsbetrieb.jpg\n",
      "Downloading Logo_gruenderpreis_mfr.jpg\n",
      "Downloading Sternstunden.jpg\n",
      "Downloading Stingl-450x600.jpg\n",
      "Downloading Schmidt-450x600.jpg\n",
      "Downloading Bux.jpg\n",
      "Downloading Ladwein-450x600.jpg\n",
      "Downloading Wieland_-450x600.jpg\n",
      "Downloading Rother-450x600.jpg\n",
      "Downloading Niederhöfer-450x600.jpg\n",
      "Downloading Mayer-450x600.jpg\n",
      "Downloading Riedl.jpg\n",
      "Downloading Kuhlmann-450x600.jpg\n",
      "Downloading Bossert-450x600.jpg\n",
      "Downloading Rusty-450x600.jpg\n",
      "Downloading Fiebig-450x600.jpg\n",
      "Downloading Karl-450x600.jpg\n",
      "Downloading Boehm-450x600.jpg\n",
      "Downloading Kovalchuk-450x600.jpg\n",
      "Downloading Hagen-450x600.jpg\n",
      "Downloading Nouira-450x600.jpg\n",
      "Downloading Macenka-450x600.jpg\n",
      "Downloading Surma-450x600.jpg\n",
      "Downloading planemos-logo-footer.png\n",
      "Downloading en.png\n",
      "Downloading ru.png\n",
      "\n",
      "All Done.\n"
     ]
    }
   ],
   "source": [
    "for link in links:\n",
    "    name = link.split('/')[-1]\n",
    "    with open(os.path.join(path,name),'wb') as f:\n",
    "        f.write(requests.get(link).content)\n",
    "        print(f'Downloading {name}')\n",
    "print('\\nAll Done.')"
   ]
  },
  {
   "cell_type": "code",
   "execution_count": null,
   "metadata": {},
   "outputs": [],
   "source": []
  }
 ],
 "metadata": {
  "kernelspec": {
   "display_name": "Python 3",
   "language": "python",
   "name": "python3"
  },
  "language_info": {
   "codemirror_mode": {
    "name": "ipython",
    "version": 3
   },
   "file_extension": ".py",
   "mimetype": "text/x-python",
   "name": "python",
   "nbconvert_exporter": "python",
   "pygments_lexer": "ipython3",
   "version": "3.7.3"
  }
 },
 "nbformat": 4,
 "nbformat_minor": 2
}
