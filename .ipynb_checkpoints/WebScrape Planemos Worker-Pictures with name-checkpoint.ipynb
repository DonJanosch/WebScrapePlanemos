{
 "cells": [
  {
   "cell_type": "code",
   "execution_count": 1,
   "metadata": {},
   "outputs": [],
   "source": [
    "import os, requests\n",
    "from bs4 import BeautifulSoup"
   ]
  },
  {
   "cell_type": "code",
   "execution_count": 2,
   "metadata": {},
   "outputs": [],
   "source": [
    "url = 'https://www.planemos.de/unternehmen/'"
   ]
  },
  {
   "cell_type": "code",
   "execution_count": 3,
   "metadata": {},
   "outputs": [],
   "source": [
    "response = requests.get(url)"
   ]
  },
  {
   "cell_type": "code",
   "execution_count": 4,
   "metadata": {},
   "outputs": [],
   "source": [
    "soup = BeautifulSoup(response.text,'html.parser')"
   ]
  },
  {
   "cell_type": "code",
   "execution_count": 5,
   "metadata": {},
   "outputs": [],
   "source": [
    "div_res = soup.find('div',{'class':'portfolio-wrap'})"
   ]
  },
  {
   "cell_type": "code",
   "execution_count": 6,
   "metadata": {},
   "outputs": [
    {
     "data": {
      "text/plain": [
       "<div class=\"portfolio-wrap \">\n",
       "<span class=\"portfolio-loading\"></span>\n",
       "<div class=\"row portfolio-items masonry-items fullwidth-constrained \" data-categories-to-show=\"\" data-col-num=\"elastic\" data-gutter=\"20px\" data-masonry-type=\"photography\" data-ps=\"7\" data-starting-filter=\"\">\n",
       "<div class=\"col elastic-portfolio-item regular element\" data-default-color=\"true\" data-project-cat=\"\" data-subtitle-color=\"\" data-title-color=\"\">\n",
       "<div class=\"inner-wrap animated\" data-animation=\"fade_in_from_bottom\">\n",
       "<div class=\"work-item style-2\">\n",
       "<img alt=\"Peter Stingl\" class=\"size-regular_photography\" height=\"800\" sizes=\"(min-width: 1600px) 16.6vw, (min-width: 1300px) 20vw, (min-width: 1000px) 25vw, (min-width: 690px) 50vw, 100vw\" src=\"https://www.planemos.de/wp-content/uploads/Stingl-450x600.jpg\" srcset=\"https://www.planemos.de/wp-content/uploads/Stingl-450x600.jpg 450w, https://www.planemos.de/wp-content/uploads/Stingl-350x467.jpg 350w\" width=\"600\"/>\n",
       "<div class=\"work-info-bg\"></div>\n",
       "<div class=\"work-info\">\n",
       "<a class=\"pretty_photo\" href=\"https://www.planemos.de/wp-content/uploads/Stingl.jpg\"></a>\n",
       "<div class=\"vert-center\">\n",
       "<h3>Peter Stingl</h3>\n",
       "<p></p>\n",
       "</div><!--/vert-center-->\n",
       "</div>\n",
       "</div><!--work-item-->\n",
       "</div></div>\n",
       "<div class=\"col elastic-portfolio-item regular element\" data-default-color=\"true\" data-project-cat=\"\" data-subtitle-color=\"\" data-title-color=\"\">\n",
       "<div class=\"inner-wrap animated\" data-animation=\"fade_in_from_bottom\">\n",
       "<div class=\"work-item style-2\">\n",
       "<img alt=\"Edwin Schmidt\" class=\"size-regular_photography\" height=\"800\" sizes=\"(min-width: 1600px) 16.6vw, (min-width: 1300px) 20vw, (min-width: 1000px) 25vw, (min-width: 690px) 50vw, 100vw\" src=\"https://www.planemos.de/wp-content/uploads/Schmidt-450x600.jpg\" srcset=\"https://www.planemos.de/wp-content/uploads/Schmidt-450x600.jpg 450w, https://www.planemos.de/wp-content/uploads/Schmidt-350x467.jpg 350w\" width=\"600\"/>\n",
       "<div class=\"work-info-bg\"></div>\n",
       "<div class=\"work-info\">\n",
       "<a class=\"pretty_photo\" href=\"https://www.planemos.de/wp-content/uploads/Schmidt.jpg\"></a>\n",
       "<div class=\"vert-center\">\n",
       "<h3>Edwin Schmidt</h3>\n",
       "<p></p>\n",
       "</div><!--/vert-center-->\n",
       "</div>\n",
       "</div><!--work-item-->\n",
       "</div></div>\n",
       "<div class=\"col elastic-portfolio-item wide_tall element\" data-default-color=\"true\" data-project-cat=\"\" data-subtitle-color=\"\" data-title-color=\"\">\n",
       "<div class=\"inner-wrap animated\" data-animation=\"fade_in_from_bottom\">\n",
       "<div class=\"work-item style-2\">\n",
       "<img alt=\"Thomas Bux\" class=\"size-wide_tall_photography\" height=\"800\" sizes=\"(min-width: 1600px) 33.3vw, (min-width: 1300px) 40vw, (min-width: 1000px) 50vw, 100vw\" src=\"https://www.planemos.de/wp-content/uploads/Bux.jpg\" srcset=\"https://www.planemos.de/wp-content/uploads/Bux.jpg 900w, https://www.planemos.de/wp-content/uploads/Bux-450x600.jpg 450w\" width=\"599\"/>\n",
       "<div class=\"work-info-bg\"></div>\n",
       "<div class=\"work-info\">\n",
       "<a class=\"pretty_photo\" href=\"https://www.planemos.de/wp-content/uploads/Bux.jpg\"></a>\n",
       "<div class=\"vert-center\">\n",
       "<h3>Thomas Bux</h3>\n",
       "<p></p>\n",
       "</div><!--/vert-center-->\n",
       "</div>\n",
       "</div><!--work-item-->\n",
       "</div></div>\n",
       "<div class=\"col elastic-portfolio-item regular element\" data-default-color=\"true\" data-project-cat=\"\" data-subtitle-color=\"\" data-title-color=\"\">\n",
       "<div class=\"inner-wrap animated\" data-animation=\"fade_in_from_bottom\">\n",
       "<div class=\"work-item style-2\">\n",
       "<img alt=\"Christina Ladwein\" class=\"size-regular_photography\" height=\"800\" sizes=\"(min-width: 1600px) 16.6vw, (min-width: 1300px) 20vw, (min-width: 1000px) 25vw, (min-width: 690px) 50vw, 100vw\" src=\"https://www.planemos.de/wp-content/uploads/Ladwein-450x600.jpg\" srcset=\"https://www.planemos.de/wp-content/uploads/Ladwein-450x600.jpg 450w, https://www.planemos.de/wp-content/uploads/Ladwein-350x467.jpg 350w\" width=\"599\"/>\n",
       "<div class=\"work-info-bg\"></div>\n",
       "<div class=\"work-info\">\n",
       "<a class=\"pretty_photo\" href=\"https://www.planemos.de/wp-content/uploads/Ladwein.jpg\"></a>\n",
       "<div class=\"vert-center\">\n",
       "<h3>Christina Ladwein</h3>\n",
       "<p></p>\n",
       "</div><!--/vert-center-->\n",
       "</div>\n",
       "</div><!--work-item-->\n",
       "</div></div>\n",
       "<div class=\"col elastic-portfolio-item regular element\" data-default-color=\"true\" data-project-cat=\"\" data-subtitle-color=\"\" data-title-color=\"\">\n",
       "<div class=\"inner-wrap animated\" data-animation=\"fade_in_from_bottom\">\n",
       "<div class=\"work-item style-2\">\n",
       "<img alt=\"Benjamin Wieland\" class=\"size-regular_photography\" height=\"800\" sizes=\"(min-width: 1600px) 16.6vw, (min-width: 1300px) 20vw, (min-width: 1000px) 25vw, (min-width: 690px) 50vw, 100vw\" src=\"https://www.planemos.de/wp-content/uploads/Wieland_-450x600.jpg\" srcset=\"https://www.planemos.de/wp-content/uploads/Wieland_-450x600.jpg 450w, https://www.planemos.de/wp-content/uploads/Wieland_-350x467.jpg 350w\" width=\"600\"/>\n",
       "<div class=\"work-info-bg\"></div>\n",
       "<div class=\"work-info\">\n",
       "<a class=\"pretty_photo\" href=\"https://www.planemos.de/wp-content/uploads/Wieland_.jpg\"></a>\n",
       "<div class=\"vert-center\">\n",
       "<h3>Benjamin Wieland</h3>\n",
       "<p></p>\n",
       "</div><!--/vert-center-->\n",
       "</div>\n",
       "</div><!--work-item-->\n",
       "</div></div>\n",
       "<div class=\"col elastic-portfolio-item regular element\" data-default-color=\"true\" data-project-cat=\"\" data-subtitle-color=\"\" data-title-color=\"\">\n",
       "<div class=\"inner-wrap animated\" data-animation=\"fade_in_from_bottom\">\n",
       "<div class=\"work-item style-2\">\n",
       "<img alt=\"Maximilian Rother\" class=\"size-regular_photography\" height=\"800\" sizes=\"(min-width: 1600px) 16.6vw, (min-width: 1300px) 20vw, (min-width: 1000px) 25vw, (min-width: 690px) 50vw, 100vw\" src=\"https://www.planemos.de/wp-content/uploads/Rother-450x600.jpg\" srcset=\"https://www.planemos.de/wp-content/uploads/Rother-450x600.jpg 450w, https://www.planemos.de/wp-content/uploads/Rother-350x467.jpg 350w\" width=\"600\"/>\n",
       "<div class=\"work-info-bg\"></div>\n",
       "<div class=\"work-info\">\n",
       "<a class=\"pretty_photo\" href=\"https://www.planemos.de/wp-content/uploads/Rother.jpg\"></a>\n",
       "<div class=\"vert-center\">\n",
       "<h3>Maximilian Rother</h3>\n",
       "<p></p>\n",
       "</div><!--/vert-center-->\n",
       "</div>\n",
       "</div><!--work-item-->\n",
       "</div></div>\n",
       "<div class=\"col elastic-portfolio-item regular element\" data-default-color=\"true\" data-project-cat=\"\" data-subtitle-color=\"\" data-title-color=\"\">\n",
       "<div class=\"inner-wrap animated\" data-animation=\"fade_in_from_bottom\">\n",
       "<div class=\"work-item style-2\">\n",
       "<img alt=\"Barbara Niederhöfer\" class=\"size-regular_photography\" height=\"800\" sizes=\"(min-width: 1600px) 16.6vw, (min-width: 1300px) 20vw, (min-width: 1000px) 25vw, (min-width: 690px) 50vw, 100vw\" src=\"https://www.planemos.de/wp-content/uploads/Niederhöfer-450x600.jpg\" srcset=\"https://www.planemos.de/wp-content/uploads/Niederhöfer-450x600.jpg 450w, https://www.planemos.de/wp-content/uploads/Niederhöfer-350x467.jpg 350w\" width=\"600\"/>\n",
       "<div class=\"work-info-bg\"></div>\n",
       "<div class=\"work-info\">\n",
       "<a class=\"pretty_photo\" href=\"https://www.planemos.de/wp-content/uploads/Niederhöfer.jpg\"></a>\n",
       "<div class=\"vert-center\">\n",
       "<h3>Barbara Niederhöfer</h3>\n",
       "<p></p>\n",
       "</div><!--/vert-center-->\n",
       "</div>\n",
       "</div><!--work-item-->\n",
       "</div></div>\n",
       "<div class=\"col elastic-portfolio-item regular element\" data-default-color=\"true\" data-project-cat=\"\" data-subtitle-color=\"\" data-title-color=\"\">\n",
       "<div class=\"inner-wrap animated\" data-animation=\"fade_in_from_bottom\">\n",
       "<div class=\"work-item style-2\">\n",
       "<img alt=\"Andreas Mayer\" class=\"size-regular_photography\" height=\"800\" sizes=\"(min-width: 1600px) 16.6vw, (min-width: 1300px) 20vw, (min-width: 1000px) 25vw, (min-width: 690px) 50vw, 100vw\" src=\"https://www.planemos.de/wp-content/uploads/Mayer-450x600.jpg\" srcset=\"https://www.planemos.de/wp-content/uploads/Mayer-450x600.jpg 450w, https://www.planemos.de/wp-content/uploads/Mayer-350x467.jpg 350w\" width=\"600\"/>\n",
       "<div class=\"work-info-bg\"></div>\n",
       "<div class=\"work-info\">\n",
       "<a class=\"pretty_photo\" href=\"https://www.planemos.de/wp-content/uploads/Mayer.jpg\"></a>\n",
       "<div class=\"vert-center\">\n",
       "<h3>Andreas Mayer</h3>\n",
       "<p></p>\n",
       "</div><!--/vert-center-->\n",
       "</div>\n",
       "</div><!--work-item-->\n",
       "</div></div>\n",
       "<div class=\"col elastic-portfolio-item wide_tall element\" data-default-color=\"true\" data-project-cat=\"\" data-subtitle-color=\"\" data-title-color=\"\">\n",
       "<div class=\"inner-wrap animated\" data-animation=\"fade_in_from_bottom\">\n",
       "<div class=\"work-item style-2\">\n",
       "<img alt=\"Roland Riedl\" class=\"size-wide_tall_photography\" height=\"800\" sizes=\"(min-width: 1600px) 33.3vw, (min-width: 1300px) 40vw, (min-width: 1000px) 50vw, 100vw\" src=\"https://www.planemos.de/wp-content/uploads/Riedl.jpg\" srcset=\"https://www.planemos.de/wp-content/uploads/Riedl.jpg 900w, https://www.planemos.de/wp-content/uploads/Riedl-450x600.jpg 450w\" width=\"600\"/>\n",
       "<div class=\"work-info-bg\"></div>\n",
       "<div class=\"work-info\">\n",
       "<a class=\"pretty_photo\" href=\"https://www.planemos.de/wp-content/uploads/Riedl.jpg\"></a>\n",
       "<div class=\"vert-center\">\n",
       "<h3>Roland Riedl</h3>\n",
       "<p></p>\n",
       "</div><!--/vert-center-->\n",
       "</div>\n",
       "</div><!--work-item-->\n",
       "</div></div>\n",
       "<div class=\"col elastic-portfolio-item regular element\" data-default-color=\"true\" data-project-cat=\"\" data-subtitle-color=\"\" data-title-color=\"\">\n",
       "<div class=\"inner-wrap animated\" data-animation=\"fade_in_from_bottom\">\n",
       "<div class=\"work-item style-2\">\n",
       "<img alt=\"Nils Kuhlmann\" class=\"size-regular_photography\" height=\"800\" sizes=\"(min-width: 1600px) 16.6vw, (min-width: 1300px) 20vw, (min-width: 1000px) 25vw, (min-width: 690px) 50vw, 100vw\" src=\"https://www.planemos.de/wp-content/uploads/Kuhlmann-450x600.jpg\" srcset=\"https://www.planemos.de/wp-content/uploads/Kuhlmann-450x600.jpg 450w, https://www.planemos.de/wp-content/uploads/Kuhlmann-350x467.jpg 350w\" width=\"600\"/>\n",
       "<div class=\"work-info-bg\"></div>\n",
       "<div class=\"work-info\">\n",
       "<a class=\"pretty_photo\" href=\"https://www.planemos.de/wp-content/uploads/Kuhlmann.jpg\"></a>\n",
       "<div class=\"vert-center\">\n",
       "<h3>Nils Kuhlmann</h3>\n",
       "<p></p>\n",
       "</div><!--/vert-center-->\n",
       "</div>\n",
       "</div><!--work-item-->\n",
       "</div></div>\n",
       "<div class=\"col elastic-portfolio-item regular element\" data-default-color=\"true\" data-project-cat=\"\" data-subtitle-color=\"\" data-title-color=\"\">\n",
       "<div class=\"inner-wrap animated\" data-animation=\"fade_in_from_bottom\">\n",
       "<div class=\"work-item style-2\">\n",
       "<img alt=\"Christian Bossert\" class=\"size-regular_photography\" height=\"800\" sizes=\"(min-width: 1600px) 16.6vw, (min-width: 1300px) 20vw, (min-width: 1000px) 25vw, (min-width: 690px) 50vw, 100vw\" src=\"https://www.planemos.de/wp-content/uploads/Bossert-450x600.jpg\" srcset=\"https://www.planemos.de/wp-content/uploads/Bossert-450x600.jpg 450w, https://www.planemos.de/wp-content/uploads/Bossert-350x467.jpg 350w\" width=\"599\"/>\n",
       "<div class=\"work-info-bg\"></div>\n",
       "<div class=\"work-info\">\n",
       "<a class=\"pretty_photo\" href=\"https://www.planemos.de/wp-content/uploads/Bossert.jpg\"></a>\n",
       "<div class=\"vert-center\">\n",
       "<h3>Christian Bossert</h3>\n",
       "<p></p>\n",
       "</div><!--/vert-center-->\n",
       "</div>\n",
       "</div><!--work-item-->\n",
       "</div></div>\n",
       "<div class=\"col elastic-portfolio-item regular element\" data-default-color=\"true\" data-project-cat=\"\" data-subtitle-color=\"\" data-title-color=\"\">\n",
       "<div class=\"inner-wrap animated\" data-animation=\"fade_in_from_bottom\">\n",
       "<div class=\"work-item style-2\">\n",
       "<img alt=\"Rusty\" class=\"size-regular_photography\" height=\"800\" sizes=\"(min-width: 1600px) 16.6vw, (min-width: 1300px) 20vw, (min-width: 1000px) 25vw, (min-width: 690px) 50vw, 100vw\" src=\"https://www.planemos.de/wp-content/uploads/Rusty-450x600.jpg\" srcset=\"https://www.planemos.de/wp-content/uploads/Rusty-450x600.jpg 450w, https://www.planemos.de/wp-content/uploads/Rusty-350x467.jpg 350w\" width=\"600\"/>\n",
       "<div class=\"work-info-bg\"></div>\n",
       "<div class=\"work-info\">\n",
       "<a class=\"pretty_photo\" href=\"https://www.planemos.de/wp-content/uploads/Rusty.jpg\"></a>\n",
       "<div class=\"vert-center\">\n",
       "<h3>Rusty</h3>\n",
       "<p></p>\n",
       "</div><!--/vert-center-->\n",
       "</div>\n",
       "</div><!--work-item-->\n",
       "</div></div>\n",
       "<div class=\"col elastic-portfolio-item regular element\" data-default-color=\"true\" data-project-cat=\"\" data-subtitle-color=\"\" data-title-color=\"\">\n",
       "<div class=\"inner-wrap animated\" data-animation=\"fade_in_from_bottom\">\n",
       "<div class=\"work-item style-2\">\n",
       "<img alt=\"Jens Fiebig\" class=\"size-regular_photography\" height=\"800\" sizes=\"(min-width: 1600px) 16.6vw, (min-width: 1300px) 20vw, (min-width: 1000px) 25vw, (min-width: 690px) 50vw, 100vw\" src=\"https://www.planemos.de/wp-content/uploads/Fiebig-450x600.jpg\" srcset=\"https://www.planemos.de/wp-content/uploads/Fiebig-450x600.jpg 450w, https://www.planemos.de/wp-content/uploads/Fiebig-350x467.jpg 350w\" width=\"600\"/>\n",
       "<div class=\"work-info-bg\"></div>\n",
       "<div class=\"work-info\">\n",
       "<a class=\"pretty_photo\" href=\"https://www.planemos.de/wp-content/uploads/Fiebig.jpg\"></a>\n",
       "<div class=\"vert-center\">\n",
       "<h3>Jens Fiebig</h3>\n",
       "<p></p>\n",
       "</div><!--/vert-center-->\n",
       "</div>\n",
       "</div><!--work-item-->\n",
       "</div></div>\n",
       "<div class=\"col elastic-portfolio-item regular element\" data-default-color=\"true\" data-project-cat=\"\" data-subtitle-color=\"\" data-title-color=\"\">\n",
       "<div class=\"inner-wrap animated\" data-animation=\"fade_in_from_bottom\">\n",
       "<div class=\"work-item style-2\">\n",
       "<img alt=\"Florian Kahler\" class=\"size-regular_photography\" height=\"800\" sizes=\"(min-width: 1600px) 16.6vw, (min-width: 1300px) 20vw, (min-width: 1000px) 25vw, (min-width: 690px) 50vw, 100vw\" src=\"https://www.planemos.de/wp-content/uploads/Kahler-450x600.jpg\" srcset=\"https://www.planemos.de/wp-content/uploads/Kahler-450x600.jpg 450w, https://www.planemos.de/wp-content/uploads/Kahler-350x467.jpg 350w\" width=\"600\"/>\n",
       "<div class=\"work-info-bg\"></div>\n",
       "<div class=\"work-info\">\n",
       "<a class=\"pretty_photo\" href=\"https://www.planemos.de/wp-content/uploads/Kahler.jpg\"></a>\n",
       "<div class=\"vert-center\">\n",
       "<h3>Florian Kahler</h3>\n",
       "<p></p>\n",
       "</div><!--/vert-center-->\n",
       "</div>\n",
       "</div><!--work-item-->\n",
       "</div></div>\n",
       "<div class=\"col elastic-portfolio-item regular element\" data-default-color=\"true\" data-project-cat=\"\" data-subtitle-color=\"\" data-title-color=\"\">\n",
       "<div class=\"inner-wrap animated\" data-animation=\"fade_in_from_bottom\">\n",
       "<div class=\"work-item style-2\">\n",
       "<img alt=\"Veronika Karl\" class=\"size-regular_photography\" height=\"800\" sizes=\"(min-width: 1600px) 16.6vw, (min-width: 1300px) 20vw, (min-width: 1000px) 25vw, (min-width: 690px) 50vw, 100vw\" src=\"https://www.planemos.de/wp-content/uploads/Karl-450x600.jpg\" srcset=\"https://www.planemos.de/wp-content/uploads/Karl-450x600.jpg 450w, https://www.planemos.de/wp-content/uploads/Karl-350x467.jpg 350w\" width=\"599\"/>\n",
       "<div class=\"work-info-bg\"></div>\n",
       "<div class=\"work-info\">\n",
       "<a class=\"pretty_photo\" href=\"https://www.planemos.de/wp-content/uploads/Karl.jpg\"></a>\n",
       "<div class=\"vert-center\">\n",
       "<h3>Veronika Karl</h3>\n",
       "<p></p>\n",
       "</div><!--/vert-center-->\n",
       "</div>\n",
       "</div><!--work-item-->\n",
       "</div></div>\n",
       "<div class=\"col elastic-portfolio-item regular element\" data-default-color=\"true\" data-project-cat=\"\" data-subtitle-color=\"\" data-title-color=\"\">\n",
       "<div class=\"inner-wrap animated\" data-animation=\"fade_in_from_bottom\">\n",
       "<div class=\"work-item style-2\">\n",
       "<img alt=\"Daniel Böhm\" class=\"size-regular_photography\" height=\"800\" sizes=\"(min-width: 1600px) 16.6vw, (min-width: 1300px) 20vw, (min-width: 1000px) 25vw, (min-width: 690px) 50vw, 100vw\" src=\"https://www.planemos.de/wp-content/uploads/Boehm-450x600.jpg\" srcset=\"https://www.planemos.de/wp-content/uploads/Boehm-450x600.jpg 450w, https://www.planemos.de/wp-content/uploads/Boehm-350x467.jpg 350w\" width=\"600\"/>\n",
       "<div class=\"work-info-bg\"></div>\n",
       "<div class=\"work-info\">\n",
       "<a class=\"pretty_photo\" href=\"https://www.planemos.de/wp-content/uploads/Boehm.jpg\"></a>\n",
       "<div class=\"vert-center\">\n",
       "<h3>Devin Böhm</h3>\n",
       "<p></p>\n",
       "</div><!--/vert-center-->\n",
       "</div>\n",
       "</div><!--work-item-->\n",
       "</div></div>\n",
       "<div class=\"col elastic-portfolio-item regular element\" data-default-color=\"true\" data-project-cat=\"\" data-subtitle-color=\"\" data-title-color=\"\">\n",
       "<div class=\"inner-wrap animated\" data-animation=\"fade_in_from_bottom\">\n",
       "<div class=\"work-item style-2\">\n",
       "<img alt=\"Mykhailo Kovalchuk\" class=\"size-regular_photography\" height=\"800\" sizes=\"(min-width: 1600px) 16.6vw, (min-width: 1300px) 20vw, (min-width: 1000px) 25vw, (min-width: 690px) 50vw, 100vw\" src=\"https://www.planemos.de/wp-content/uploads/Kovalchuk-450x600.jpg\" srcset=\"https://www.planemos.de/wp-content/uploads/Kovalchuk-450x600.jpg 450w, https://www.planemos.de/wp-content/uploads/Kovalchuk-350x467.jpg 350w\" width=\"600\"/>\n",
       "<div class=\"work-info-bg\"></div>\n",
       "<div class=\"work-info\">\n",
       "<a class=\"pretty_photo\" href=\"https://www.planemos.de/wp-content/uploads/Kovalchuk.jpg\"></a>\n",
       "<div class=\"vert-center\">\n",
       "<h3>Mykhailo Kovalchuk</h3>\n",
       "<p></p>\n",
       "</div><!--/vert-center-->\n",
       "</div>\n",
       "</div><!--work-item-->\n",
       "</div></div>\n",
       "</div></div>"
      ]
     },
     "execution_count": 6,
     "metadata": {},
     "output_type": "execute_result"
    }
   ],
   "source": [
    "div_res"
   ]
  },
  {
   "cell_type": "code",
   "execution_count": 7,
   "metadata": {},
   "outputs": [],
   "source": [
    "workers = div_res.find_all('div',{'class':'work-info'})"
   ]
  },
  {
   "cell_type": "code",
   "execution_count": 8,
   "metadata": {},
   "outputs": [
    {
     "data": {
      "text/plain": [
       "17"
      ]
     },
     "execution_count": 8,
     "metadata": {},
     "output_type": "execute_result"
    }
   ],
   "source": [
    "len(workers)"
   ]
  },
  {
   "cell_type": "code",
   "execution_count": 9,
   "metadata": {},
   "outputs": [
    {
     "data": {
      "text/plain": [
       "<div class=\"work-info\">\n",
       "<a class=\"pretty_photo\" href=\"https://www.planemos.de/wp-content/uploads/Stingl.jpg\"></a>\n",
       "<div class=\"vert-center\">\n",
       "<h3>Peter Stingl</h3>\n",
       "<p></p>\n",
       "</div><!--/vert-center-->\n",
       "</div>"
      ]
     },
     "execution_count": 9,
     "metadata": {},
     "output_type": "execute_result"
    }
   ],
   "source": [
    "workers[0]"
   ]
  },
  {
   "cell_type": "code",
   "execution_count": 10,
   "metadata": {},
   "outputs": [],
   "source": [
    "planemos = []\n",
    "for worker in workers:\n",
    "    picture = worker.find('a')['href']\n",
    "    name = worker.find('h3').text\n",
    "    planemos.append((name,picture))"
   ]
  },
  {
   "cell_type": "code",
   "execution_count": 11,
   "metadata": {},
   "outputs": [
    {
     "data": {
      "text/plain": [
       "[('Peter Stingl', 'https://www.planemos.de/wp-content/uploads/Stingl.jpg'),\n",
       " ('Edwin Schmidt', 'https://www.planemos.de/wp-content/uploads/Schmidt.jpg'),\n",
       " ('Thomas Bux', 'https://www.planemos.de/wp-content/uploads/Bux.jpg'),\n",
       " ('Christina Ladwein',\n",
       "  'https://www.planemos.de/wp-content/uploads/Ladwein.jpg'),\n",
       " ('Benjamin Wieland',\n",
       "  'https://www.planemos.de/wp-content/uploads/Wieland_.jpg'),\n",
       " ('Maximilian Rother',\n",
       "  'https://www.planemos.de/wp-content/uploads/Rother.jpg'),\n",
       " ('Barbara Niederhöfer',\n",
       "  'https://www.planemos.de/wp-content/uploads/Niederhöfer.jpg'),\n",
       " ('Andreas Mayer', 'https://www.planemos.de/wp-content/uploads/Mayer.jpg'),\n",
       " ('Roland Riedl', 'https://www.planemos.de/wp-content/uploads/Riedl.jpg'),\n",
       " ('Nils Kuhlmann', 'https://www.planemos.de/wp-content/uploads/Kuhlmann.jpg'),\n",
       " ('Christian Bossert',\n",
       "  'https://www.planemos.de/wp-content/uploads/Bossert.jpg'),\n",
       " ('Rusty', 'https://www.planemos.de/wp-content/uploads/Rusty.jpg'),\n",
       " ('Jens Fiebig', 'https://www.planemos.de/wp-content/uploads/Fiebig.jpg'),\n",
       " ('Florian Kahler', 'https://www.planemos.de/wp-content/uploads/Kahler.jpg'),\n",
       " ('Veronika Karl', 'https://www.planemos.de/wp-content/uploads/Karl.jpg'),\n",
       " ('Devin Böhm', 'https://www.planemos.de/wp-content/uploads/Boehm.jpg'),\n",
       " ('Mykhailo Kovalchuk',\n",
       "  'https://www.planemos.de/wp-content/uploads/Kovalchuk.jpg')]"
      ]
     },
     "execution_count": 11,
     "metadata": {},
     "output_type": "execute_result"
    }
   ],
   "source": [
    "planemos"
   ]
  },
  {
   "cell_type": "code",
   "execution_count": 12,
   "metadata": {},
   "outputs": [],
   "source": [
    "path = './planemos/'\n",
    "if not os.path.exists(path):\n",
    "    os.mkdir(path)"
   ]
  },
  {
   "cell_type": "code",
   "execution_count": 13,
   "metadata": {},
   "outputs": [
    {
     "name": "stdout",
     "output_type": "stream",
     "text": [
      "Downloaded Peter Stingl\n",
      "Downloaded Edwin Schmidt\n",
      "Downloaded Thomas Bux\n",
      "Downloaded Christina Ladwein\n",
      "Downloaded Benjamin Wieland\n",
      "Downloaded Maximilian Rother\n",
      "Downloaded Barbara Niederhöfer\n",
      "Downloaded Andreas Mayer\n",
      "Downloaded Roland Riedl\n",
      "Downloaded Nils Kuhlmann\n",
      "Downloaded Christian Bossert\n",
      "Downloaded Rusty\n",
      "Downloaded Jens Fiebig\n",
      "Downloaded Florian Kahler\n",
      "Downloaded Veronika Karl\n",
      "Downloaded Devin Böhm\n",
      "Downloaded Mykhailo Kovalchuk\n",
      "\n",
      "All Done!\n"
     ]
    }
   ],
   "source": [
    "for member in planemos:\n",
    "    name, image_path = member\n",
    "    with open(path+name.replace(' ','_')+'.jpg','wb') as f:\n",
    "        f.write(requests.get(image_path).content)\n",
    "    print('Downloaded {}'.format(name))\n",
    "print('\\nAll Done!')"
   ]
  }
 ],
 "metadata": {
  "kernelspec": {
   "display_name": "Python 3",
   "language": "python",
   "name": "python3"
  },
  "language_info": {
   "codemirror_mode": {
    "name": "ipython",
    "version": 3
   },
   "file_extension": ".py",
   "mimetype": "text/x-python",
   "name": "python",
   "nbconvert_exporter": "python",
   "pygments_lexer": "ipython3",
   "version": "3.6.5"
  }
 },
 "nbformat": 4,
 "nbformat_minor": 2
}
