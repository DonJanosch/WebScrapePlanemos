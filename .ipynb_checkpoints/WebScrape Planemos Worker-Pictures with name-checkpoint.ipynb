{
 "cells": [
  {
   "cell_type": "code",
   "execution_count": 1,
   "metadata": {},
   "outputs": [],
   "source": [
    "import os, requests\n",
    "from bs4 import BeautifulSoup"
   ]
  },
  {
   "cell_type": "code",
   "execution_count": 2,
   "metadata": {},
   "outputs": [],
   "source": [
    "url = 'https://www.planemos.de/unternehmen/'"
   ]
  },
  {
   "cell_type": "code",
   "execution_count": 3,
   "metadata": {},
   "outputs": [],
   "source": [
    "response = requests.get(url)"
   ]
  },
  {
   "cell_type": "code",
   "execution_count": 4,
   "metadata": {},
   "outputs": [],
   "source": [
    "soup = BeautifulSoup(response.text,'html.parser')"
   ]
  },
  {
   "cell_type": "code",
   "execution_count": 5,
   "metadata": {},
   "outputs": [],
   "source": [
    "workers = soup.find_all('div',{'class':'work-info'})"
   ]
  },
  {
   "cell_type": "code",
   "execution_count": 6,
   "metadata": {},
   "outputs": [
    {
     "data": {
      "text/plain": [
       "<div class=\"work-info\">\n",
       "<a class=\"pretty_photo\" href=\"https://www.planemos.de/wp-content/uploads/Stingl.jpg\"></a>\n",
       "<div class=\"vert-center\">\n",
       "<h3>Peter Stingl</h3>\n",
       "<p></p>\n",
       "</div><!--/vert-center-->\n",
       "</div>"
      ]
     },
     "execution_count": 6,
     "metadata": {},
     "output_type": "execute_result"
    }
   ],
   "source": [
    "workers[0]"
   ]
  },
  {
   "cell_type": "code",
   "execution_count": 7,
   "metadata": {},
   "outputs": [],
   "source": [
    "path = './planemos/'\n",
    "if not os.path.exists(path):\n",
    "    os.mkdir(path)"
   ]
  },
  {
   "cell_type": "code",
   "execution_count": 8,
   "metadata": {},
   "outputs": [
    {
     "name": "stdout",
     "output_type": "stream",
     "text": [
      "Downloaded Peter Stingl\n",
      "Downloaded Edwin Schmidt\n",
      "Downloaded Thomas Bux\n",
      "Downloaded Christina Ladwein\n",
      "Downloaded Benjamin Wieland\n",
      "Downloaded Maximilian Rother\n",
      "Downloaded Barbara Niederhöfer\n",
      "Downloaded Andreas Mayer\n",
      "Downloaded Roland Riedl\n",
      "Downloaded Nils Kuhlmann\n",
      "Downloaded Christian Bossert\n",
      "Downloaded Rusty\n",
      "Downloaded Jens Fiebig\n",
      "Downloaded Veronika Karl\n",
      "Downloaded Devin Böhm\n",
      "Downloaded Mykhailo Kovalchuk\n",
      "\n",
      "All Done!\n"
     ]
    }
   ],
   "source": [
    "for worker in workers:\n",
    "    picture = worker.find('a')['href']\n",
    "    name = worker.find('h3').text\n",
    "    picture_name = name.replace(' ','_')+'.jpg'\n",
    "    picture_path = os.path.join(path,picture_name)\n",
    "    with open(picture_path,'wb') as f:\n",
    "        f.write(requests.get(picture).content)\n",
    "    print('Downloaded {}'.format(name))\n",
    "print('\\nAll Done!')"
   ]
  }
 ],
 "metadata": {
  "kernelspec": {
   "display_name": "Python 3",
   "language": "python",
   "name": "python3"
  },
  "language_info": {
   "codemirror_mode": {
    "name": "ipython",
    "version": 3
   },
   "file_extension": ".py",
   "mimetype": "text/x-python",
   "name": "python",
   "nbconvert_exporter": "python",
   "pygments_lexer": "ipython3",
   "version": "3.7.0"
  }
 },
 "nbformat": 4,
 "nbformat_minor": 2
}
