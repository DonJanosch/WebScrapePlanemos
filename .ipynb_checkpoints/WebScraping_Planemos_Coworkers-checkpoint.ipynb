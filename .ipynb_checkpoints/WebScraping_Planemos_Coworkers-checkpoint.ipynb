{
 "cells": [
  {
   "cell_type": "code",
   "execution_count": 1,
   "metadata": {},
   "outputs": [],
   "source": [
    "from bs4 import BeautifulSoup\n",
    "import requests\n",
    "import os"
   ]
  },
  {
   "cell_type": "code",
   "execution_count": 2,
   "metadata": {},
   "outputs": [],
   "source": [
    "url = 'https://www.planemos.de/unternehmen/'"
   ]
  },
  {
   "cell_type": "code",
   "execution_count": 3,
   "metadata": {},
   "outputs": [],
   "source": [
    "response = requests.get(url)"
   ]
  },
  {
   "cell_type": "code",
   "execution_count": 4,
   "metadata": {},
   "outputs": [],
   "source": [
    "suop = BeautifulSoup(response.content,'html.parser')"
   ]
  },
  {
   "cell_type": "code",
   "execution_count": 5,
   "metadata": {},
   "outputs": [],
   "source": [
    "coworkers = suop.find_all('div',attrs={'class':'work-item'})"
   ]
  },
  {
   "cell_type": "code",
   "execution_count": 6,
   "metadata": {},
   "outputs": [],
   "source": [
    "path = './pictures/'\n",
    "if not os.path.exists(path):\n",
    "    os.makedirs(path)"
   ]
  },
  {
   "cell_type": "code",
   "execution_count": 7,
   "metadata": {},
   "outputs": [
    {
     "name": "stdout",
     "output_type": "stream",
     "text": [
      "Downoaded Peter Stingl\n",
      "Downoaded Edwin Schmidt\n",
      "Downoaded Thomas Bux\n",
      "Downoaded Christina Ladwein\n",
      "Downoaded Benjamin Wieland\n",
      "Downoaded Maximilian Rother\n",
      "Downoaded Barbara Niederhöfer\n",
      "Downoaded Andreas Mayer\n",
      "Downoaded Roland Riedl\n",
      "Downoaded Nils Kuhlmann\n",
      "Downoaded Christian Bossert\n",
      "Downoaded Rusty\n",
      "Downoaded Jens Fiebig\n",
      "Downoaded Veronika Karl\n",
      "Downoaded Daniel Böhm\n",
      "Downoaded Mykhailo Kovalchuk\n",
      "Downoaded Roland Hagen\n",
      "Downoaded Dhiaeddine Nouira\n",
      "Downoaded Jan Macenka\n",
      "Downoaded Ramon Surma\n"
     ]
    }
   ],
   "source": [
    "for co in coworkers:\n",
    "    img = co.find(['img'])['src']\n",
    "    name = co.find(['img'])['alt']\n",
    "    img_format = img[-5:].split('.')[1]\n",
    "    img_path = path+name+'.'+img_format\n",
    "    with open(img_path, 'wb') as f:\n",
    "        f.write(requests.get(img).content)\n",
    "        print(f'Downoaded {name}')    "
   ]
  },
  {
   "cell_type": "code",
   "execution_count": null,
   "metadata": {},
   "outputs": [],
   "source": []
  }
 ],
 "metadata": {
  "kernelspec": {
   "display_name": "Python 3",
   "language": "python",
   "name": "python3"
  },
  "language_info": {
   "codemirror_mode": {
    "name": "ipython",
    "version": 3
   },
   "file_extension": ".py",
   "mimetype": "text/x-python",
   "name": "python",
   "nbconvert_exporter": "python",
   "pygments_lexer": "ipython3",
   "version": "3.7.0"
  }
 },
 "nbformat": 4,
 "nbformat_minor": 2
}
